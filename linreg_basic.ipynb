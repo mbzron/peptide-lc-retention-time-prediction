{
 "cells": [
  {
   "cell_type": "code",
   "execution_count": null,
   "id": "fdd83474",
   "metadata": {},
   "outputs": [],
   "source": [
    "from sklearn.ensemble import RandomForestRegressor\n",
    "from sklearn.linear_model import LinearRegression\n",
    "from sklearn.model_selection import train_test_split\n",
    "from sklearn.metrics import r2_score\n",
    "\n",
    "import numpy as np\n",
    "import pandas as pd\n",
    "\n",
    "from matplotlib import pyplot as plt\n",
    "\n",
    "import sequence_features\n",
    "from importlib import reload\n",
    "reload(sequence_features)\n",
    "\n",
    "import itertools"
   ]
  },
  {
   "cell_type": "code",
   "execution_count": null,
   "id": "6220a004",
   "metadata": {},
   "outputs": [],
   "source": [
    "import sys, time\n",
    "def progress_bar(current, total, bar_length=40):\n",
    "    fraction = current / total\n",
    "    arrow = '=' * int(fraction * bar_length - 1) + '>'\n",
    "    padding = ' ' * (bar_length - len(arrow))\n",
    "    ending = '\\n' if current == total else '\\r'\n",
    "    sys.stdout.write(f'[{arrow}{padding}] {int(fraction*100)}%{ending}')\n",
    "    sys.stdout.flush()"
   ]
  },
  {
   "cell_type": "code",
   "execution_count": null,
   "id": "767db330",
   "metadata": {},
   "outputs": [],
   "source": [
    "models = [\n",
    "    RandomForestRegressor,\n",
    "    LinearRegression\n",
    "]\n",
    "\n",
    "encodings = [\n",
    "    'hydro_features',\n",
    "    'one_hot_encode',\n",
    "    'aa_composition',\n",
    "]"
   ]
  },
  {
   "cell_type": "code",
   "execution_count": null,
   "id": "a8bb310b",
   "metadata": {},
   "outputs": [],
   "source": [
    "encoding_combos = []\n",
    "for r in range(len(encodings)):\n",
    "    encoding_combos += [*itertools.combinations(encodings, r + 1)]\n",
    "encoding_combos"
   ]
  },
  {
   "cell_type": "code",
   "execution_count": null,
   "id": "79742c98",
   "metadata": {},
   "outputs": [],
   "source": [
    "# load data\n",
    "def load_data(filename):\n",
    "    return pd.read_csv(filename, header=0)\n",
    "\n",
    "df = load_data('train.csv')\n",
    "y = df['RetentionTime'].tolist()\n",
    "sf = sequence_features.SeqFeatures(df['PeptideSequence'].tolist())"
   ]
  },
  {
   "cell_type": "markdown",
   "id": "bbf21f43",
   "metadata": {},
   "source": [
    "### Test feature combinations"
   ]
  },
  {
   "cell_type": "code",
   "execution_count": null,
   "id": "699f432c",
   "metadata": {},
   "outputs": [],
   "source": [
    "results = pd.DataFrame()\n",
    "mean_absolute_errors = []\n",
    "\n",
    "for combo in encoding_combos:\n",
    "    combo_name = \"_\".join(combo)\n",
    "    X = sf.get_feature_combination(combo)\n",
    "\n",
    "    for j in range(len(models)):\n",
    "\n",
    "        X_train, X_test, y_train, y_test = train_test_split(X, y, test_size=0.2, random_state=42)\n",
    "\n",
    "        model_encoding = f\"{models[j].__name__}_{combo_name}\"\n",
    "\n",
    "        print(f\"Training {model_encoding}...\")\n",
    "\n",
    "        model = models[j]()\n",
    "        model.fit(X_train, y_train)\n",
    "\n",
    "        y_pred = model.predict(X_test)\n",
    "        print(f\"{model_encoding} R²:\", r2_score(y_test, y_pred))\n",
    "\n",
    "        # calculate mean absolute error\n",
    "        mae = np.mean(np.abs(y_test - y_pred))\n",
    "        print(f\"{model_encoding} Mean Absolute Error:\", mae)\n",
    "\n",
    "        results[model_encoding] = y_pred\n",
    "        mean_absolute_errors.append((mae, model_encoding))\n",
    "\n",
    "        print(\"\")\n",
    "\n",
    "results['y_test'] = y_test"
   ]
  },
  {
   "cell_type": "code",
   "execution_count": null,
   "id": "c3db2a02",
   "metadata": {},
   "outputs": [],
   "source": [
    "sorted_mae = sorted(mean_absolute_errors, reverse=True)\n",
    "model_encoding_ranking = [x[1] for x in sorted_mae]"
   ]
  },
  {
   "cell_type": "code",
   "execution_count": null,
   "id": "ac292f0d",
   "metadata": {},
   "outputs": [],
   "source": [
    "top5 = model_encoding_ranking[-5:]"
   ]
  },
  {
   "cell_type": "code",
   "execution_count": null,
   "id": "1b363eaa",
   "metadata": {},
   "outputs": [],
   "source": [
    "top5"
   ]
  },
  {
   "cell_type": "code",
   "execution_count": null,
   "id": "5e4686a7",
   "metadata": {},
   "outputs": [],
   "source": [
    "ax = results.plot(x='y_test', y=top5, marker='o', linestyle='')\n",
    "ax.plot(\n",
    "    [results.y_test.min(numeric_only=True), results.y_test.max(numeric_only=True)],\n",
    "    [results.y_test.min(numeric_only=True), results.y_test.max(numeric_only=True)],\n",
    "    color='red', linestyle='-', label='y=x'\n",
    ");"
   ]
  }
 ],
 "metadata": {
  "kernelspec": {
   "display_name": ".venv (3.12.3)",
   "language": "python",
   "name": "python3"
  },
  "language_info": {
   "codemirror_mode": {
    "name": "ipython",
    "version": 3
   },
   "file_extension": ".py",
   "mimetype": "text/x-python",
   "name": "python",
   "nbconvert_exporter": "python",
   "pygments_lexer": "ipython3",
   "version": "3.12.3"
  }
 },
 "nbformat": 4,
 "nbformat_minor": 5
}
