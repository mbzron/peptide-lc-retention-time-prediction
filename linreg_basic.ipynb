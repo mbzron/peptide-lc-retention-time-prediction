{
 "cells": [
  {
   "cell_type": "code",
   "execution_count": null,
   "id": "fdd83474",
   "metadata": {},
   "outputs": [],
   "source": [
    "from sklearn.ensemble import RandomForestRegressor\n",
    "from sklearn.model_selection import train_test_split\n",
    "from sklearn.metrics import r2_score\n",
    "\n",
    "import numpy as np\n",
    "import pandas as pd\n",
    "\n",
    "from matplotlib import pyplot as plt\n"
   ]
  },
  {
   "cell_type": "code",
   "execution_count": null,
   "id": "60408311",
   "metadata": {},
   "outputs": [],
   "source": [
    "import sequence_features\n",
    "\n",
    "from importlib import reload\n",
    "reload(sequence_features)\n"
   ]
  },
  {
   "cell_type": "code",
   "execution_count": null,
   "id": "79742c98",
   "metadata": {},
   "outputs": [],
   "source": [
    "# load data\n",
    "def load_data_one_hot(filename):\n",
    "    df = pd.read_csv(filename, header=0)\n",
    "    seqs, retention_times = df['PeptideSequence'].tolist(), df['RetentionTime'].tolist()\n",
    "    return sequence_features.SeqFeatures(seqs).one_hot_encode, retention_times\n",
    "\n",
    "seqs, retention_times = load_data_one_hot('train.csv')\n",
    "X, y = seqs, retention_times\n"
   ]
  },
  {
   "cell_type": "code",
   "execution_count": null,
   "id": "7f827a80",
   "metadata": {},
   "outputs": [],
   "source": [
    "X_train, X_test, y_train, y_test = train_test_split(X, y, test_size=0.2, random_state=42)\n",
    "\n",
    "model = RandomForestRegressor()\n",
    "model.fit(X_train, y_train)\n",
    "\n",
    "y_pred = model.predict(X_test)\n",
    "print(\"R²:\", r2_score(y_test, y_pred))"
   ]
  },
  {
   "cell_type": "code",
   "execution_count": null,
   "id": "447c1ae0",
   "metadata": {},
   "outputs": [],
   "source": [
    "# calculate mean absolute error\n",
    "mae = np.mean(np.abs(y_test - y_pred))\n",
    "print(\"Mean Absolute Error:\", mae)"
   ]
  },
  {
   "cell_type": "code",
   "execution_count": null,
   "id": "d00b97bf",
   "metadata": {},
   "outputs": [],
   "source": [
    "plt.plot(y_test, y_pred, 'o');\n",
    "plt.plot(y_test, y_test, 'r-');"
   ]
  }
 ],
 "metadata": {
  "kernelspec": {
   "display_name": ".venv (3.12.3)",
   "language": "python",
   "name": "python3"
  },
  "language_info": {
   "codemirror_mode": {
    "name": "ipython",
    "version": 3
   },
   "file_extension": ".py",
   "mimetype": "text/x-python",
   "name": "python",
   "nbconvert_exporter": "python",
   "pygments_lexer": "ipython3",
   "version": "3.12.3"
  }
 },
 "nbformat": 4,
 "nbformat_minor": 5
}
