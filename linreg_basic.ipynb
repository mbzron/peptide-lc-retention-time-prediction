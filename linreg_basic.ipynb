{
 "cells": [
  {
   "cell_type": "code",
   "execution_count": null,
   "id": "fdd83474",
   "metadata": {},
   "outputs": [],
   "source": [
    "from sklearn.ensemble import RandomForestRegressor\n",
    "from sklearn.model_selection import train_test_split\n",
    "from sklearn.metrics import r2_score\n",
    "\n",
    "from sequence_features import SeqFeatures"
   ]
  },
  {
   "cell_type": "code",
   "execution_count": null,
   "id": "a19dfd80",
   "metadata": {},
   "outputs": [],
   "source": [
    "# load data\n",
    "def load_data():\n",
    "    ...\n",
    "seqs, retention_times = load_data()\n",
    "sf = SeqFeatures(seqs)\n",
    "X, y = sf.one_hot_encode, retention_times\n"
   ]
  },
  {
   "cell_type": "code",
   "execution_count": null,
   "id": "7f827a80",
   "metadata": {},
   "outputs": [],
   "source": [
    "X_train, X_test, y_train, y_test = train_test_split(X, y, test_size=0.2, random_state=42)\n",
    "\n",
    "model = RandomForestRegressor()\n",
    "model.fit(X_train, y_train)\n",
    "\n",
    "y_pred = model.predict(X_test)\n",
    "print(\"R²:\", r2_score(y_test, y_pred))"
   ]
  }
 ],
 "metadata": {
  "language_info": {
   "name": "python"
  }
 },
 "nbformat": 4,
 "nbformat_minor": 5
}
