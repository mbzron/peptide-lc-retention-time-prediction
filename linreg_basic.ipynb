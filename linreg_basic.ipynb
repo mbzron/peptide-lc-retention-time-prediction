{
 "cells": [
  {
   "cell_type": "code",
   "execution_count": null,
   "id": "fdd83474",
   "metadata": {},
   "outputs": [],
   "source": [
    "from sklearn.ensemble import RandomForestRegressor\n",
    "from sklearn.linear_model import LinearRegression\n",
    "from sklearn.model_selection import train_test_split\n",
    "from sklearn.metrics import r2_score\n",
    "\n",
    "import numpy as np\n",
    "import pandas as pd\n",
    "\n",
    "from matplotlib import pyplot as plt\n"
   ]
  },
  {
   "cell_type": "code",
   "execution_count": null,
   "id": "60408311",
   "metadata": {},
   "outputs": [],
   "source": [
    "import sequence_features\n",
    "\n",
    "from importlib import reload\n",
    "reload(sequence_features);\n"
   ]
  },
  {
   "cell_type": "code",
   "execution_count": null,
   "id": "767db330",
   "metadata": {},
   "outputs": [],
   "source": [
    "models = [\n",
    "    RandomForestRegressor,\n",
    "    LinearRegression\n",
    "]\n",
    "\n",
    "encodings = [\n",
    "    'one_hot_encode',\n",
    "    'aa_composition'\n",
    "]"
   ]
  },
  {
   "cell_type": "code",
   "execution_count": null,
   "id": "79742c98",
   "metadata": {},
   "outputs": [],
   "source": [
    "# load data\n",
    "def load_data(filename):\n",
    "    return pd.read_csv(filename, header=0)\n",
    "\n",
    "df = load_data('train.csv')\n",
    "y = df['RetentionTime'].tolist()\n",
    "sf = sequence_features.SeqFeatures(df['PeptideSequence'].tolist())"
   ]
  },
  {
   "cell_type": "code",
   "execution_count": null,
   "id": "effd3186",
   "metadata": {},
   "outputs": [],
   "source": [
    "results = pd.DataFrame()\n",
    "mean_absolute_errors = []\n",
    "\n",
    "for i in range(len(encodings)):\n",
    "\n",
    "    X = getattr(sf, encodings[i])\n",
    "\n",
    "    for j in range(len(models)):\n",
    "\n",
    "        X_train, X_test, y_train, y_test = train_test_split(X, y, test_size=0.2, random_state=42)\n",
    "\n",
    "        model_encoding = f\"{models[j].__name__}_{encodings[i]}\"\n",
    "\n",
    "        print(f\"Training {model_encoding}...\")\n",
    "\n",
    "        model = models[j]()\n",
    "        model.fit(X_train, y_train)\n",
    "\n",
    "        y_pred = model.predict(X_test)\n",
    "        print(f\"{model_encoding} R²:\", r2_score(y_test, y_pred))\n",
    "\n",
    "        # calculate mean absolute error\n",
    "        mae = np.mean(np.abs(y_test - y_pred))\n",
    "        print(f\"{model_encoding} Mean Absolute Error:\", mae)\n",
    "\n",
    "        results[model_encoding] = y_pred\n",
    "        mean_absolute_errors.append((mae, model_encoding))\n",
    "\n",
    "        print(\"\")\n",
    "\n",
    "results['y_test'] = y_test"
   ]
  },
  {
   "cell_type": "code",
   "execution_count": null,
   "id": "15e35593",
   "metadata": {},
   "outputs": [],
   "source": [
    "sorted_mae = sorted(mean_absolute_errors, reverse=True)"
   ]
  },
  {
   "cell_type": "code",
   "execution_count": null,
   "id": "e25a7fe3",
   "metadata": {},
   "outputs": [],
   "source": [
    "model_encoding_ranking = [x[1] for x in sorted_mae]"
   ]
  },
  {
   "cell_type": "code",
   "execution_count": null,
   "id": "7a46a07a",
   "metadata": {},
   "outputs": [],
   "source": [
    "model_encoding_ranking"
   ]
  },
  {
   "cell_type": "code",
   "execution_count": null,
   "id": "134c11ca",
   "metadata": {},
   "outputs": [],
   "source": [
    "results.plot(x='y_test', y=model_encoding_ranking, marker='o', linestyle='')"
   ]
  }
 ],
 "metadata": {
  "kernelspec": {
   "display_name": ".venv (3.12.3)",
   "language": "python",
   "name": "python3"
  },
  "language_info": {
   "codemirror_mode": {
    "name": "ipython",
    "version": 3
   },
   "file_extension": ".py",
   "mimetype": "text/x-python",
   "name": "python",
   "nbconvert_exporter": "python",
   "pygments_lexer": "ipython3",
   "version": "3.12.3"
  }
 },
 "nbformat": 4,
 "nbformat_minor": 5
}
